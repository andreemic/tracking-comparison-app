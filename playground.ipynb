{
 "cells": [
  {
   "cell_type": "code",
   "execution_count": 1,
   "metadata": {},
   "outputs": [],
   "source": [
    "%load_ext autoreload\n",
    "%autoreload 2"
   ]
  },
  {
   "cell_type": "code",
   "execution_count": 2,
   "metadata": {},
   "outputs": [],
   "source": [
    "DIFT_DIR = '/export/home/mandreev/dift/src/models'\n",
    "DIFT_VIDEO_DIR = '/export/home/mandreev/dift-video/src'\n",
    "\n",
    "\n",
    "import sys\n",
    "sys.path.append(DIFT_DIR)\n",
    "sys.path.append(DIFT_VIDEO_DIR)\n",
    "from src.common_inputs import pick_source_frame, pick_keypoints, pick_video_components\n",
    "\n",
    "from utils import save_frames_as_video, load_video_as_frames\n"
   ]
  },
  {
   "cell_type": "code",
   "execution_count": 3,
   "metadata": {},
   "outputs": [],
   "source": [
    "frames = load_video_as_frames(\"/export/home/mandreev/midres/bmx_short.mp4\")"
   ]
  },
  {
   "cell_type": "code",
   "execution_count": null,
   "metadata": {},
   "outputs": [],
   "source": []
  },
  {
   "cell_type": "code",
   "execution_count": 11,
   "metadata": {},
   "outputs": [],
   "source": [
    "from trackers import omnimotion, cotracker, dift\n",
    "# tracker = omnimotion.OmniMotionTracker()\n",
    "# tracker = cotracker.CoTrackerTracker()\n",
    "tracker = dift.DIFTTracker()"
   ]
  },
  {
   "cell_type": "code",
   "execution_count": null,
   "metadata": {},
   "outputs": [],
   "source": [
    "from trackers.omnimotion import *"
   ]
  },
  {
   "cell_type": "code",
   "execution_count": 10,
   "metadata": {},
   "outputs": [],
   "source": [
    "import torch\n",
    "import gc\n",
    "gc.collect()\n",
    "torch.cuda.empty_cache()"
   ]
  },
  {
   "cell_type": "code",
   "execution_count": 9,
   "metadata": {},
   "outputs": [],
   "source": [
    "del tracker"
   ]
  },
  {
   "cell_type": "code",
   "execution_count": 12,
   "metadata": {},
   "outputs": [
    {
     "ename": "ValueError",
     "evalue": "not enough values to unpack (expected 3, got 1)",
     "output_type": "error",
     "traceback": [
      "\u001b[0;31m---------------------------------------------------------------------------\u001b[0m",
      "\u001b[0;31mValueError\u001b[0m                                Traceback (most recent call last)",
      "\u001b[1;32m/export/home/mandreev/tracking-comparison-app/playground.ipynb Cell 9\u001b[0m line \u001b[0;36m1\n\u001b[0;32m----> <a href='vscode-notebook-cell://ssh-remote%2Bcv_gpu5_heidelberg/export/home/mandreev/tracking-comparison-app/playground.ipynb#W5sdnNjb2RlLXJlbW90ZQ%3D%3D?line=0'>1</a>\u001b[0m res \u001b[39m=\u001b[39m tracker\u001b[39m.\u001b[39;49mtrack(frames, \u001b[39m'\u001b[39;49m\u001b[39mbmx_short\u001b[39;49m\u001b[39m'\u001b[39;49m, \n\u001b[1;32m      <a href='vscode-notebook-cell://ssh-remote%2Bcv_gpu5_heidelberg/export/home/mandreev/tracking-comparison-app/playground.ipynb#W5sdnNjb2RlLXJlbW90ZQ%3D%3D?line=1'>2</a>\u001b[0m [{\u001b[39m'\u001b[39;49m\u001b[39mx\u001b[39;49m\u001b[39m'\u001b[39;49m: \u001b[39m345\u001b[39;49m, \u001b[39m'\u001b[39;49m\u001b[39my\u001b[39;49m\u001b[39m'\u001b[39;49m: \u001b[39m129\u001b[39;49m, \u001b[39m'\u001b[39;49m\u001b[39mkp_id\u001b[39;49m\u001b[39m'\u001b[39;49m: \u001b[39m'\u001b[39;49m\u001b[39mkp_0\u001b[39;49m\u001b[39m'\u001b[39;49m, \u001b[39m'\u001b[39;49m\u001b[39midx\u001b[39;49m\u001b[39m'\u001b[39;49m: \u001b[39m0\u001b[39;49m, \u001b[39m'\u001b[39;49m\u001b[39mcolor\u001b[39;49m\u001b[39m'\u001b[39;49m: (\u001b[39m236\u001b[39;49m, \u001b[39m84\u001b[39;49m, \u001b[39m139\u001b[39;49m)}], \u001b[39m0\u001b[39;49m, [\u001b[39mTrue\u001b[39;49;00m])\n",
      "File \u001b[0;32m/export/compvis-nfs/user/mandreev/tracking-comparison-app/trackers/dift.py:30\u001b[0m, in \u001b[0;36mDIFTTracker.track\u001b[0;34m(self, frames, existing_video_basename, keypoints, source_frame_idx, custom_inputs, device)\u001b[0m\n\u001b[1;32m     29\u001b[0m \u001b[39mdef\u001b[39;00m \u001b[39mtrack\u001b[39m(\u001b[39mself\u001b[39m, frames, existing_video_basename, keypoints, source_frame_idx, custom_inputs, device\u001b[39m=\u001b[39m\u001b[39m\"\u001b[39m\u001b[39mcuda:0\u001b[39m\u001b[39m\"\u001b[39m) \u001b[39m-\u001b[39m\u001b[39m>\u001b[39m \u001b[39mstr\u001b[39m:\n\u001b[0;32m---> 30\u001b[0m     prompt, layer, step \u001b[39m=\u001b[39m custom_inputs\n\u001b[1;32m     31\u001b[0m     \u001b[39mglobal\u001b[39;00m dift_extractor\n\u001b[1;32m     32\u001b[0m     \u001b[39mif\u001b[39;00m \u001b[39mnot\u001b[39;00m dift_extractor:\n",
      "\u001b[0;31mValueError\u001b[0m: not enough values to unpack (expected 3, got 1)"
     ]
    }
   ],
   "source": [
    "res = tracker.track(frames, 'bmx_short', \n",
    "[{'x': 345, 'y': 129, 'kp_id': 'kp_0', 'idx': 0, 'color': (236, 84, 139)}], 0, [True])"
   ]
  },
  {
   "cell_type": "code",
   "execution_count": null,
   "metadata": {},
   "outputs": [],
   "source": [
    "res[100]"
   ]
  },
  {
   "cell_type": "code",
   "execution_count": null,
   "metadata": {},
   "outputs": [],
   "source": [
    "res.shape"
   ]
  },
  {
   "cell_type": "code",
   "execution_count": null,
   "metadata": {},
   "outputs": [],
   "source": [
    "save_frames_as_video(res, 'bmx_test_imports_in_fn_first_time.webm', 24)"
   ]
  },
  {
   "cell_type": "code",
   "execution_count": null,
   "metadata": {},
   "outputs": [],
   "source": [
    "import torch\n",
    "torch.manual_seed(1234)\n",
    "res = tracker.track(frames, 'bmx_short', \n",
    "[{'x': 345, 'y': 129, 'kp_id': 'kp_0', 'idx': 0, 'color': (236, 84, 139)}], 0, [])"
   ]
  },
  {
   "cell_type": "code",
   "execution_count": null,
   "metadata": {},
   "outputs": [],
   "source": [
    "save_frames_as_video(res, 'bmx_test_imports_in_fn_third_time_reset_seed.webm', 24)"
   ]
  },
  {
   "cell_type": "code",
   "execution_count": null,
   "metadata": {},
   "outputs": [],
   "source": [
    "res[1].shape"
   ]
  },
  {
   "cell_type": "code",
   "execution_count": null,
   "metadata": {},
   "outputs": [],
   "source": [
    "res[0][0].shape"
   ]
  },
  {
   "cell_type": "code",
   "execution_count": null,
   "metadata": {},
   "outputs": [],
   "source": [
    "from PIL import Image\n",
    "Image.fromarray(res[1])"
   ]
  },
  {
   "cell_type": "code",
   "execution_count": null,
   "metadata": {},
   "outputs": [],
   "source": [
    "res[1].shape"
   ]
  },
  {
   "cell_type": "code",
   "execution_count": null,
   "metadata": {},
   "outputs": [],
   "source": []
  }
 ],
 "metadata": {
  "kernelspec": {
   "display_name": "omnimotion",
   "language": "python",
   "name": "python3"
  },
  "language_info": {
   "codemirror_mode": {
    "name": "ipython",
    "version": 3
   },
   "file_extension": ".py",
   "mimetype": "text/x-python",
   "name": "python",
   "nbconvert_exporter": "python",
   "pygments_lexer": "ipython3",
   "version": "3.10.9"
  },
  "orig_nbformat": 4
 },
 "nbformat": 4,
 "nbformat_minor": 2
}
